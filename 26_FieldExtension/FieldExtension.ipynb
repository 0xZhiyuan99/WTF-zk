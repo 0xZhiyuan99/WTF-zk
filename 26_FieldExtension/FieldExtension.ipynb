{
 "cells": [
  {
   "cell_type": "code",
   "execution_count": 30,
   "id": "04209408",
   "metadata": {},
   "outputs": [
    {
     "name": "stdout",
     "output_type": "stream",
     "text": [
      "扩域:  QQ<sqrt(2)>\n",
      "a = ANP([MPQ(1,2)], [MPQ(1,1), MPQ(0,1), MPQ(-2,1)], QQ)\n",
      "b = ANP([MPQ(3,1)], [MPQ(1,1), MPQ(0,1), MPQ(-2,1)], QQ)\n",
      "a + b = ANP([MPQ(7,2)], [MPQ(1,1), MPQ(0,1), MPQ(-2,1)], QQ)\n",
      "a * b = ANP([MPQ(3,2)], [MPQ(1,1), MPQ(0,1), MPQ(-2,1)], QQ)\n"
     ]
    }
   ],
   "source": [
    "from sympy import symbols, QQ, RootOf\n",
    "\n",
    "# 定义符号变量\n",
    "x = symbols('x')\n",
    "\n",
    "# 在有理数域 QQ 上构建代数扩域 QQ/(sqrt(2)) (它是 x^2 - 2 = 0 的一个根)\n",
    "ext_field = QQ.algebraic_field(RootOf(x**2 - 2, 1))\n",
    "\n",
    "# 输出代数扩域和代数元\n",
    "print(\"扩域: \", ext_field)\n",
    "# QQ<sqrt(2)>\n",
    "\n",
    "\n",
    "# 计算代数扩域中的一些表达式\n",
    "a = ext_field(QQ(1, 2))\n",
    "b = ext_field(3)\n",
    "c = a + b\n",
    "d = a * b\n",
    "\n",
    "print(\"a =\", a)\n",
    "print(\"b =\", b)\n",
    "print(\"a + b =\", c)\n",
    "print(\"a * b =\", d)\n"
   ]
  },
  {
   "cell_type": "code",
   "execution_count": null,
   "id": "4c678725",
   "metadata": {},
   "outputs": [],
   "source": []
  }
 ],
 "metadata": {
  "kernelspec": {
   "display_name": "Python 3 (ipykernel)",
   "language": "python",
   "name": "python3"
  },
  "language_info": {
   "codemirror_mode": {
    "name": "ipython",
    "version": 3
   },
   "file_extension": ".py",
   "mimetype": "text/x-python",
   "name": "python",
   "nbconvert_exporter": "python",
   "pygments_lexer": "ipython3",
   "version": "3.7.7"
  }
 },
 "nbformat": 4,
 "nbformat_minor": 5
}
