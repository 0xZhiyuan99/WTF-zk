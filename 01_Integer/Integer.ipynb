{
 "cells": [
  {
   "cell_type": "code",
   "execution_count": 55,
   "id": "26ac51a0",
   "metadata": {},
   "outputs": [
    {
     "name": "stdout",
     "output_type": "stream",
     "text": [
      "加法示例: 12\n"
     ]
    }
   ],
   "source": [
    "a, b = 7, 5\n",
    "sum_result = a + b\n",
    "print(f'加法示例: {sum_result}')\n"
   ]
  },
  {
   "cell_type": "code",
   "execution_count": 56,
   "id": "d2082330",
   "metadata": {},
   "outputs": [
    {
     "name": "stdout",
     "output_type": "stream",
     "text": [
      "减法示例: 2\n"
     ]
    }
   ],
   "source": [
    "diff_result = a - b\n",
    "print(f'减法示例: {diff_result}')\n"
   ]
  },
  {
   "cell_type": "code",
   "execution_count": 35,
   "id": "a56977e2",
   "metadata": {},
   "outputs": [
    {
     "name": "stdout",
     "output_type": "stream",
     "text": [
      "乘法示例: -35\n"
     ]
    }
   ],
   "source": [
    "product_result = a * b\n",
    "print(f'乘法示例: {product_result}')\n"
   ]
  },
  {
   "cell_type": "code",
   "execution_count": 36,
   "id": "ce9feb36",
   "metadata": {},
   "outputs": [
    {
     "name": "stdout",
     "output_type": "stream",
     "text": [
      "除法示例: 商为 -2, 余数为 -3\n"
     ]
    }
   ],
   "source": [
    "a, b = 7, -5\n",
    "\n",
    "\n",
    "quotient, remainder = divmod(a, b)\n",
    "print(f'除法示例: 商为 {quotient}, 余数为 {remainder}')\n"
   ]
  },
  {
   "cell_type": "code",
   "execution_count": 57,
   "id": "c33aaf0b",
   "metadata": {},
   "outputs": [
    {
     "name": "stdout",
     "output_type": "stream",
     "text": [
      "除法示例: 商为 1, 余数为 2\n"
     ]
    }
   ],
   "source": [
    "\n",
    "def euclidean_division(a, b):\n",
    "    quotient, remainder = divmod(a, b)\n",
    "    if remainder < 0:\n",
    "        # 调整余数确保非负\n",
    "        remainder += abs(b)\n",
    "        # 调整商使等式仍然成立\n",
    "        quotient += 1\n",
    "    return quotient, remainder\n",
    "\n",
    "quotient, remainder = euclidean_division(a, b)\n",
    "print(f'除法示例: 商为 {quotient}, 余数为 {remainder}')\n"
   ]
  },
  {
   "cell_type": "code",
   "execution_count": 54,
   "id": "f64adeb4",
   "metadata": {},
   "outputs": [
    {
     "name": "stdout",
     "output_type": "stream",
     "text": [
      "除法示例: 商为 -2, 余数为 3\n"
     ]
    }
   ],
   "source": [
    "a, b = -7, 5\n",
    "quotient, remainder = euclidean_division(a, b)\n",
    "print(f'除法示例: 商为 {quotient}, 余数为 {remainder}')\n"
   ]
  },
  {
   "cell_type": "code",
   "execution_count": 47,
   "id": "1ed629db",
   "metadata": {},
   "outputs": [
    {
     "data": {
      "text/plain": [
       "1"
      ]
     },
     "execution_count": 47,
     "metadata": {},
     "output_type": "execute_result"
    }
   ],
   "source": [
    "-7 // -5"
   ]
  },
  {
   "cell_type": "code",
   "execution_count": null,
   "id": "b5015565",
   "metadata": {},
   "outputs": [],
   "source": []
  },
  {
   "cell_type": "code",
   "execution_count": 46,
   "id": "d80a11bb",
   "metadata": {},
   "outputs": [
    {
     "data": {
      "text/plain": [
       "-3"
      ]
     },
     "execution_count": 46,
     "metadata": {},
     "output_type": "execute_result"
    }
   ],
   "source": [
    "7 % -5"
   ]
  },
  {
   "cell_type": "code",
   "execution_count": 48,
   "id": "f65ca7c4",
   "metadata": {},
   "outputs": [
    {
     "data": {
      "text/plain": [
       "(1, -2)"
      ]
     },
     "execution_count": 48,
     "metadata": {},
     "output_type": "execute_result"
    }
   ],
   "source": [
    "divmod(-7, -5)"
   ]
  },
  {
   "cell_type": "code",
   "execution_count": 49,
   "id": "f3f478c4",
   "metadata": {},
   "outputs": [
    {
     "data": {
      "text/plain": [
       "(-2, 3)"
      ]
     },
     "execution_count": 49,
     "metadata": {},
     "output_type": "execute_result"
    }
   ],
   "source": [
    "divmod(-7, 5)"
   ]
  },
  {
   "cell_type": "code",
   "execution_count": 50,
   "id": "db067a05",
   "metadata": {},
   "outputs": [
    {
     "data": {
      "text/plain": [
       "(-2, -3)"
      ]
     },
     "execution_count": 50,
     "metadata": {},
     "output_type": "execute_result"
    }
   ],
   "source": [
    "divmod(7, -5)"
   ]
  },
  {
   "cell_type": "code",
   "execution_count": 52,
   "id": "7d8df641",
   "metadata": {},
   "outputs": [
    {
     "data": {
      "text/plain": [
       "-2"
      ]
     },
     "execution_count": 52,
     "metadata": {},
     "output_type": "execute_result"
    }
   ],
   "source": [
    "7 // -5"
   ]
  },
  {
   "cell_type": "code",
   "execution_count": null,
   "id": "772925a6",
   "metadata": {},
   "outputs": [],
   "source": []
  }
 ],
 "metadata": {
  "kernelspec": {
   "display_name": "Python 3 (ipykernel)",
   "language": "python",
   "name": "python3"
  },
  "language_info": {
   "codemirror_mode": {
    "name": "ipython",
    "version": 3
   },
   "file_extension": ".py",
   "mimetype": "text/x-python",
   "name": "python",
   "nbconvert_exporter": "python",
   "pygments_lexer": "ipython3",
   "version": "3.7.7"
  }
 },
 "nbformat": 4,
 "nbformat_minor": 5
}
