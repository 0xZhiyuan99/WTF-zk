{
 "cells": [
  {
   "cell_type": "code",
   "execution_count": 5,
   "id": "7d47904d",
   "metadata": {},
   "outputs": [
    {
     "name": "stdout",
     "output_type": "stream",
     "text": [
      "69 和 7 的最大公约数是 1, 逆元存在，为 10\n"
     ]
    }
   ],
   "source": [
    "def extended_euclidean_algorithm(a, b):\n",
    "    x1, y1, x2, y2 = 1, 0, 0, 1\n",
    "    \n",
    "    while b:\n",
    "        q = a // b\n",
    "        a, b = b, a % b\n",
    "        x1, x2 = x2, x1 - q * x2\n",
    "        y1, y2 = y2, y1 - q * y2\n",
    "\n",
    "    return a, x1, y1\n",
    "\n",
    "# 示例\n",
    "y = 7\n",
    "n = 69\n",
    "gcd_result, k, w = extended_euclidean_algorithm(n, y)\n",
    "if gcd_result == 1:\n",
    "    print(f'{n} 和 {y} 的最大公约数是 {gcd_result}, 逆元存在，为 {w}')\n",
    "else:\n",
    "    print(f'{n} 和 {y} 的最大公约数是 {gcd_result}, 逆元不存在')\n",
    "\n",
    "# 69 和 7 的最大公约数是 1, 逆元存在，为 10\n"
   ]
  },
  {
   "cell_type": "code",
   "execution_count": null,
   "id": "6c55edfb",
   "metadata": {},
   "outputs": [],
   "source": []
  }
 ],
 "metadata": {
  "kernelspec": {
   "display_name": "Python 3 (ipykernel)",
   "language": "python",
   "name": "python3"
  },
  "language_info": {
   "codemirror_mode": {
    "name": "ipython",
    "version": 3
   },
   "file_extension": ".py",
   "mimetype": "text/x-python",
   "name": "python",
   "nbconvert_exporter": "python",
   "pygments_lexer": "ipython3",
   "version": "3.7.7"
  }
 },
 "nbformat": 4,
 "nbformat_minor": 5
}
